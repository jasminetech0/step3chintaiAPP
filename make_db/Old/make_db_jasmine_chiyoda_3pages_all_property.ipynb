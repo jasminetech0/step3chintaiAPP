{
 "cells": [
  {
   "cell_type": "code",
   "execution_count": 2,
   "metadata": {},
   "outputs": [],
   "source": [
    "import requests\n",
    "from bs4 import BeautifulSoup\n",
    "import sqlite3\n",
    "import pandas as pd"
   ]
  },
  {
   "cell_type": "code",
   "execution_count": 3,
   "metadata": {},
   "outputs": [],
   "source": [
    "# 基本URL（ページ番号部分を除く）\n",
    "base_url = \"https://suumo.jp/jj/chintai/ichiran/FR301FC011/?ar=030&bs=040&fw=%e6%9d%b1%e4%ba%ac%e9%83%bd%e5%8d%83%e4%bb%a3%e7%94%b0%e5%8c%ba&po1=09&page={}\""
   ]
  },
  {
   "cell_type": "code",
   "execution_count": 4,
   "metadata": {},
   "outputs": [
    {
     "name": "stdout",
     "output_type": "stream",
     "text": [
      "データがCSVファイル 'chiyoda_3pages_all_property.csv' に保存されました。\n"
     ]
    }
   ],
   "source": [
    "# 全ページの物件データを保存するリストを初期化\n",
    "all_properties_list = []\n",
    "\n",
    "# ページ数の範囲（ここでは1ページ目から3ページ目まで）\n",
    "for page in range(1, 4):\n",
    "    # 各ページのURLを生成\n",
    "    url = base_url.format(page)\n",
    "    \n",
    "    # リクエストを送信\n",
    "    response = requests.get(url)\n",
    "    \n",
    "    # BeautifulSoupオブジェクトを作成\n",
    "    soup = BeautifulSoup(response.text, 'html.parser')\n",
    "    \n",
    "    # すべての物件リストアイテムを取得\n",
    "    property_items = soup.find_all('div', class_='property')\n",
    "\n",
    "    for item in property_items:\n",
    "        property_data = {\n",
    "            '物件名': item.find('a', class_='js-cassetLinkHref').text if item.find('a', class_='js-cassetLinkHref') else '-',\n",
    "            'URL': 'https://suumo.jp' + item.find('a', class_='js-cassetLinkHref')['href'] if item.find('a', class_='js-cassetLinkHref') else '-',\n",
    "            'イメージ画像': item.find('img', class_='js-noContextMenu')['rel'] if item.find('img', class_='js-noContextMenu') else '-',\n",
    "            '賃料': int(float(item.find('div', class_='detailbox-property-point').text.replace('万円', '')) * 10000) if item.find('div', class_='detailbox-property-point') else '-',\n",
    "            '管理費': item.find('td', class_='detailbox-property--col1').find_all('div')[1].text.replace('管理費 ', '') if item.find('td', class_='detailbox-property--col1') and len(item.find('td', class_='detailbox-property--col1').find_all('div')) > 1 else '-',\n",
    "            '間取り': item.find('td', class_='detailbox-property--col3').find_all('div')[0].text if item.find('td', class_='detailbox-property--col3') else '-',\n",
    "            '専有面積': item.find('td', class_='detailbox-property--col3').find_all('div')[1].text.replace('\\n', '').strip() if item.find('td', class_='detailbox-property--col3') else '-',\n",
    "            '向き': item.select('td.detailbox-property--col3')[0].find_all('div')[2].text if len(item.select('td.detailbox-property--col3')[0].find_all('div')) > 2 else '-' if item.select('td.detailbox-property--col3') else '-',\n",
    "            '物件種別': item.select('td.detailbox-property--col3')[1].find_all('div')[0].text if len(item.select('td.detailbox-property--col3')) > 1 else '-' if item.select('td.detailbox-property--col3') else '-',\n",
    "            '築年数': item.select('td.detailbox-property--col3')[1].find_all('div')[1].text if len(item.select('td.detailbox-property--col3')[1].find_all('div')) > 1 else '-' if item.select('td.detailbox-property--col3') else '-',\n",
    "            '住所': item.select_one('td.detailbox-property-col:not([class*=\"detailbox-property--\"])').text.strip() if item.select_one('td.detailbox-property-col:not([class*=\"detailbox-property--\"])') else '-',\n",
    "            '最寄り駅と距離': item.select_one('.detailnote-box > div').text.strip() if item.select_one('.detailnote-box > div') else '-',\n",
    "            '敷金': item.find('td', class_='detailbox-property--col2').find_all('div')[0].contents[-1].strip() if item.find('td', class_='detailbox-property--col2') else '-',\n",
    "            '礼金': item.find('td', class_='detailbox-property--col2').find_all('div')[1].contents[-1].strip() if item.find('td', class_='detailbox-property--col2') else '-',\n",
    "            '保証金': item.find('div', class_='detailbox-property-inactive', string=lambda text: '保証金' in text).text.replace('保証金', '').strip() if item.find('div', class_='detailbox-property-inactive', string=lambda text: '保証金' in text) else '-',\n",
    "            '敷引・償却': item.find('div', class_='detailbox-property-inactive', string=lambda text: '敷引・償却' in text).text.replace('敷引・償却', '').strip() if item.find('div', class_='detailbox-property-inactive', string=lambda text: '敷引・償却' in text) else '-',\n",
    "            '取り扱い店舗': item.select_one('.detailnote-box .detailnote-box-item div:nth-of-type(1)').text.strip() if item.select_one('.detailnote-box .detailnote-box-item div:nth-of-type(1)') else '-',\n",
    "            '取り扱い店舗の電話番号': item.find('div', class_='ui-text--bold').text.strip() if item.find('div', class_='ui-text--bold') else '-'\n",
    "        }\n",
    "\n",
    "        # 各ページの物件データを全体リストに追加\n",
    "        all_properties_list.append(property_data)\n",
    "\n",
    "# データフレームに変換\n",
    "df = pd.DataFrame(all_properties_list)\n",
    "\n",
    "# データフレームをCSVファイルに出力\n",
    "df.to_csv('chiyoda_3pages_all_property.csv', index=False, encoding='utf-8-sig')\n",
    "print(\"データがCSVファイル 'chiyoda_3pages_all_property.csv' に保存されました。\")\n"
   ]
  }
 ],
 "metadata": {
  "kernelspec": {
   "display_name": "Python 3",
   "language": "python",
   "name": "python3"
  },
  "language_info": {
   "codemirror_mode": {
    "name": "ipython",
    "version": 3
   },
   "file_extension": ".py",
   "mimetype": "text/x-python",
   "name": "python",
   "nbconvert_exporter": "python",
   "pygments_lexer": "ipython3",
   "version": "3.12.1"
  }
 },
 "nbformat": 4,
 "nbformat_minor": 2
}
