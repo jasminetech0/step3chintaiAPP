{
 "cells": [
  {
   "cell_type": "code",
   "execution_count": 28,
   "metadata": {},
   "outputs": [
    {
     "name": "stdout",
     "output_type": "stream",
     "text": [
      "Requirement already satisfied: googlemaps in c:\\users\\jiebing\\desktop\\chintaiapp\\.venv\\lib\\site-packages (4.10.0)\n",
      "Requirement already satisfied: requests<3.0,>=2.20.0 in c:\\users\\jiebing\\desktop\\chintaiapp\\.venv\\lib\\site-packages (from googlemaps) (2.31.0)\n",
      "Requirement already satisfied: charset-normalizer<4,>=2 in c:\\users\\jiebing\\desktop\\chintaiapp\\.venv\\lib\\site-packages (from requests<3.0,>=2.20.0->googlemaps) (3.3.2)\n",
      "Requirement already satisfied: idna<4,>=2.5 in c:\\users\\jiebing\\desktop\\chintaiapp\\.venv\\lib\\site-packages (from requests<3.0,>=2.20.0->googlemaps) (3.7)\n",
      "Requirement already satisfied: urllib3<3,>=1.21.1 in c:\\users\\jiebing\\desktop\\chintaiapp\\.venv\\lib\\site-packages (from requests<3.0,>=2.20.0->googlemaps) (2.2.1)\n",
      "Requirement already satisfied: certifi>=2017.4.17 in c:\\users\\jiebing\\desktop\\chintaiapp\\.venv\\lib\\site-packages (from requests<3.0,>=2.20.0->googlemaps) (2024.2.2)\n",
      "Note: you may need to restart the kernel to use updated packages.\n"
     ]
    }
   ],
   "source": [
    "pip install googlemaps"
   ]
  },
  {
   "cell_type": "code",
   "execution_count": 29,
   "metadata": {},
   "outputs": [],
   "source": [
    "\n",
    "import pandas as pd    # Excel読み書き用\n",
    "import googlemaps      # Google Map用 pip install googlemaps\n",
    "from dotenv import load_dotenv\n",
    "import os\n"
   ]
  },
  {
   "cell_type": "code",
   "execution_count": 30,
   "metadata": {},
   "outputs": [
    {
     "name": "stdout",
     "output_type": "stream",
     "text": [
      "Loading .env file from: C:\\Users\\jiebing\\Desktop\\ChintaiAPP\\.env\n"
     ]
    },
    {
     "data": {
      "text/plain": [
       "True"
      ]
     },
     "execution_count": 30,
     "metadata": {},
     "output_type": "execute_result"
    }
   ],
   "source": [
    "# .envファイルのパスを指定して環境変数を読み込む\n",
    "dotenv_path = r'C:\\Users\\jiebing\\Desktop\\ChintaiAPP\\.env'\n",
    "print(f\"Loading .env file from: {dotenv_path}\")\n",
    "load_dotenv(dotenv_path)"
   ]
  },
  {
   "cell_type": "code",
   "execution_count": 31,
   "metadata": {},
   "outputs": [
    {
     "name": "stdout",
     "output_type": "stream",
     "text": [
      "Google Maps APIキーを正常に読み込みました。\n"
     ]
    }
   ],
   "source": [
    "# Google Maps APIキーを環境変数から取得\n",
    "api_key = os.getenv('GOOGLE_MAPS_API_KEY')\n",
    "\n",
    "if not api_key:\n",
    "    print(\"Error: Google Maps APIキーが見つかりません。\")\n",
    "    exit()\n",
    "\n",
    "print(\"Google Maps APIキーを正常に読み込みました。\")"
   ]
  },
  {
   "cell_type": "code",
   "execution_count": 32,
   "metadata": {},
   "outputs": [],
   "source": [
    "# Google Mapsクライアントを作成\n",
    "gmaps = googlemaps.Client(key=api_key)\n",
    "\n",
    "# 入力CSVファイルのパス\n",
    "input_file = r'C:\\Users\\jiebing\\Desktop\\ChintaiAPP\\make_db\\tokyo6ku_fix_test.csv'\n",
    "# 出力CSVファイルのパス\n",
    "output_file = r'C:\\Users\\jiebing\\Desktop\\ChintaiAPP\\make_db\\tokyo6ku_fix_with_latlng.csv'\n",
    "\n",
    "# CSVファイルを読み込む\n",
    "df = pd.read_csv(input_file, encoding='UTF-8-SIG')"
   ]
  },
  {
   "cell_type": "code",
   "execution_count": 33,
   "metadata": {},
   "outputs": [
    {
     "name": "stdout",
     "output_type": "stream",
     "text": [
      "Starting to process addresses...\n",
      "Exception occurred for address 東京都千代田区神田神保町１丁目: REQUEST_DENIED (The provided API key is expired. )\n",
      "Exception occurred for address 東京都千代田区神田神保町１丁目: REQUEST_DENIED (The provided API key is expired. )\n",
      "Exception occurred for address 東京都千代田区神田神保町１丁目: REQUEST_DENIED (The provided API key is expired. )\n",
      "Exception occurred for address 東京都千代田区岩本町２丁目: REQUEST_DENIED (The provided API key is expired. )\n",
      "Finished processing addresses.\n"
     ]
    }
   ],
   "source": [
    "print(\"Starting to process addresses...\")\n",
    "for address in df['住所']:\n",
    "    try:\n",
    "        # Geocoding APIを使って住所の緯度と経度を取得\n",
    "        geocode_result = gmaps.geocode(address)\n",
    "        if geocode_result:\n",
    "            location = geocode_result[0]['geometry']['location']\n",
    "            latitudes.append(location['lat'])\n",
    "            longitudes.append(location['lng'])\n",
    "            print(f\"住所: {address}, 緯度: {location['lat']}, 経度: {location['lng']}\")\n",
    "        else:\n",
    "            latitudes.append(None)\n",
    "            longitudes.append(None)\n",
    "            print(f\"Error: {address} に対する結果が見つかりませんでした。\")\n",
    "    except Exception as e:\n",
    "        latitudes.append(None)\n",
    "        longitudes.append(None)\n",
    "        print(f\"Exception occurred for address {address}: {e}\")\n",
    "\n",
    "print(\"Finished processing addresses.\")"
   ]
  },
  {
   "cell_type": "code",
   "execution_count": null,
   "metadata": {},
   "outputs": [],
   "source": [
    "# 新しいカラムとして追加\n",
    "df['緯度'] = latitudes\n",
    "df['経度'] = longitudes\n",
    "\n",
    "# フィルタリング結果を新しいCSVファイルに保存\n",
    "df.to_csv(output_file, index=False, encoding='UTF-8-SIG')\n",
    "\n",
    "print(f\"Filtered data with latitude and longitude saved to {output_file}\")\n"
   ]
  }
 ],
 "metadata": {
  "kernelspec": {
   "display_name": ".venv",
   "language": "python",
   "name": "python3"
  },
  "language_info": {
   "codemirror_mode": {
    "name": "ipython",
    "version": 3
   },
   "file_extension": ".py",
   "mimetype": "text/x-python",
   "name": "python",
   "nbconvert_exporter": "python",
   "pygments_lexer": "ipython3",
   "version": "3.12.1"
  }
 },
 "nbformat": 4,
 "nbformat_minor": 2
}
