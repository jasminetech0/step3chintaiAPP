{
 "cells": [
  {
   "cell_type": "code",
   "execution_count": 1,
   "metadata": {},
   "outputs": [],
   "source": [
    "import requests\n",
    "from bs4 import BeautifulSoup\n",
    "import pandas as pd"
   ]
  },
  {
   "cell_type": "code",
   "execution_count": 2,
   "metadata": {},
   "outputs": [],
   "source": [
    "# 各区のURLリスト\n",
    "urls = [\n",
    "    \"https://suumo.jp/jj/chintai/ichiran/FR301FC011/?ar=030&bs=040&pc=30&smk=&po1=10&po2=99&shkr1=03&shkr2=03&shkr3=03&shkr4=03&fw=%E6%9D%B1%E4%BA%AC%E9%83%BD%E5%8D%83%E4%BB%A3%E7%94%B0%E5%8C%BA&cb=10.0&ct=30.0&et=9999999&mb=0&mt=9999999&cn=9999999&page={}\",\n",
    "    \"https://suumo.jp/jj/chintai/ichiran/FR301FC011/?ar=030&bs=040&pc=30&smk=&po1=10&po2=99&shkr1=03&shkr2=03&shkr3=03&shkr4=03&fw=%E6%9D%B1%E4%BA%AC%E9%83%BD%E4%B8%AD%E5%A4%AE%E5%8C%BA&cb=10.0&ct=30.0&et=9999999&mb=0&mt=9999999&cn=9999999&page={}\",\n",
    "    \"https://suumo.jp/jj/chintai/ichiran/FR301FC011/?ar=030&bs=040&pc=30&smk=&po1=10&po2=99&shkr1=03&shkr2=03&shkr3=03&shkr4=03&fw=%E6%9D%B1%E4%BA%AC%E9%83%BD%E6%B8%AF%E5%8C%BA&cb=10.0&ct=30.0&et=9999999&mb=0&mt=9999999&cn=9999999&page={}\",\n",
    "    \"https://suumo.jp/jj/chintai/ichiran/FR301FC011/?ar=030&bs=040&pc=30&smk=&po1=10&po2=99&shkr1=03&shkr2=03&shkr3=03&shkr4=03&fw=%E6%9D%B1%E4%BA%AC%E9%83%BD%E6%96%B0%E5%AE%BF%E5%8C%BA&cb=10.0&ct=30.0&et=9999999&mb=0&mt=9999999&cn=9999999&page={}\",\n",
    "    \"https://suumo.jp/jj/chintai/ichiran/FR301FC011/?ar=030&bs=040&pc=30&smk=&po1=10&po2=99&shkr1=03&shkr2=03&shkr3=03&shkr4=03&fw=%E6%9D%B1%E4%BA%AC%E9%83%BD%E6%B8%8B%E8%B0%B7%E5%8C%BA&cb=10.0&ct=30.0&et=9999999&mb=0&mt=9999999&cn=9999999&page={}\",\n",
    "    \"https://suumo.jp/jj/chintai/ichiran/FR301FC011/?ar=030&bs=040&pc=30&smk=&po1=00&po2=99&shkr1=03&shkr2=03&shkr3=03&shkr4=03&fw=%E6%9D%B1%E4%BA%AC%E9%83%BD%E6%96%87%E4%BA%AC%E5%8C%BA&cb=10.0&ct=30.0&et=9999999&mb=0&mt=9999999&cn=9999999&page={}\"\n",
    "]"
   ]
  },
  {
   "cell_type": "code",
   "execution_count": 3,
   "metadata": {},
   "outputs": [
    {
     "name": "stdout",
     "output_type": "stream",
     "text": [
      "Error fetching https://suumo.jp/jj/chintai/ichiran/FR301FC011/?ar=030&bs=040&pc=30&smk=&po1=10&po2=99&shkr1=03&shkr2=03&shkr3=03&shkr4=03&fw=%E6%9D%B1%E4%BA%AC%E9%83%BD%E6%96%B0%E5%AE%BF%E5%8C%BA&cb=10.0&ct=30.0&et=9999999&mb=0&mt=9999999&cn=9999999&page=537: HTTPSConnectionPool(host='suumo.jp', port=443): Read timed out. (read timeout=10)\n",
      "データがCSVファイル 'tokyo6ku_1000pages_all_property.csv' に保存されました。\n"
     ]
    }
   ],
   "source": [
    "# 全ページの物件データを保存するリストを初期化\n",
    "all_properties_list = []\n",
    "\n",
    "# 各URLについて処理\n",
    "for base_url in urls:\n",
    "    # ページ数の範囲（ここでは1ページ目から1001ページ目まで）\n",
    "    for page in range(1, 1001):\n",
    "        # 各ページのURLを生成\n",
    "        url = base_url.format(page)\n",
    "        \n",
    "        # リクエストを送信（タイムアウトを設定）\n",
    "        try:\n",
    "            response = requests.get(url, timeout=10)\n",
    "            response.raise_for_status()  # ステータスコードがエラーレスポンスでないことを確認\n",
    "            \n",
    "            # BeautifulSoupオブジェクトを作成\n",
    "            soup = BeautifulSoup(response.text, 'html.parser')\n",
    "            \n",
    "            # すべての物件リストアイテムを取得\n",
    "            property_items = soup.find_all('div', class_='property')\n",
    "\n",
    "            for item in property_items:\n",
    "                property_data = {\n",
    "                    '物件名': item.find('a', class_='js-cassetLinkHref').text if item.find('a', class_='js-cassetLinkHref') else '-',\n",
    "                    'URL': 'https://suumo.jp' + item.find('a', class_='js-cassetLinkHref')['href'] if item.find('a', class_='js-cassetLinkHref') else '-',\n",
    "                    'イメージ画像': item.find('img', class_='js-noContextMenu').get('rel', '-') if item.find('img', class_='js-noContextMenu') else '-',\n",
    "                    '賃料': int(float(item.find('div', class_='detailbox-property-point').text.replace('万円', '')) * 10000) if item.find('div', class_='detailbox-property-point') else '-',\n",
    "                    '管理費': item.find('td', class_='detailbox-property--col1').find_all('div')[1].text.replace('管理費 ', '') if item.find('td', class_='detailbox-property--col1') and len(item.find('td', class_='detailbox-property--col1').find_all('div')) > 1 else '-',\n",
    "                    '間取り': item.find('td', class_='detailbox-property--col3').find_all('div')[0].text if item.find('td', class_='detailbox-property--col3') else '-',\n",
    "                    '専有面積': item.find('td', class_='detailbox-property--col3').find_all('div')[1].text.replace('\\n', '').strip() if item.find('td', class_='detailbox-property--col3') else '-',\n",
    "                    '向き': item.select('td.detailbox-property--col3')[0].find_all('div')[2].text if len(item.select('td.detailbox-property--col3')[0].find_all('div')) > 2 else '-' if item.select('td.detailbox-property--col3') else '-',\n",
    "                    '物件種別': item.select('td.detailbox-property--col3')[1].find_all('div')[0].text if len(item.select('td.detailbox-property--col3')) > 1 else '-' if item.select('td.detailbox-property--col3') else '-',\n",
    "                    '築年数': item.select('td.detailbox-property--col3')[1].find_all('div')[1].text if len(item.select('td.detailbox-property--col3')[1].find_all('div')) > 1 else '-' if item.select('td.detailbox-property--col3') else '-',\n",
    "                    '住所': item.select_one('td.detailbox-property-col:not([class*=\"detailbox-property--\"])').text.strip() if item.select_one('td.detailbox-property-col:not([class*=\"detailbox-property--\"])') else '-',\n",
    "                    '最寄り駅と距離': item.select_one('.detailnote-box > div').text.strip() if item.select_one('.detailnote-box > div') else '-',\n",
    "                    '敷金': item.find('td', class_='detailbox-property--col2').find_all('div')[0].contents[-1].strip() if item.find('td', class_='detailbox-property--col2') else '-',\n",
    "                    '礼金': item.find('td', class_='detailbox-property--col2').find_all('div')[1].contents[-1].strip() if item.find('td', class_='detailbox-property--col2') else '-',\n",
    "                    '保証金': item.find('div', class_='detailbox-property-inactive', string=lambda text: '保証金' in text).text.replace('保証金', '').strip() if item.find('div', class_='detailbox-property-inactive', string=lambda text: '保証金' in text) else '-',\n",
    "                    '敷引・償却': item.find('div', class_='detailbox-property-inactive', string=lambda text: '敷引・償却' in text).text.replace('敷引・償却', '').strip() if item.find('div', class_='detailbox-property-inactive', string=lambda text: '敷引・償却' in text) else '-',\n",
    "                    '取り扱い店舗': item.select_one('.detailnote-box .detailnote-box-item div:nth-of-type(1)').text.strip() if item.select_one('.detailnote-box .detailnote-box-item div:nth-of-type(1)') else '-',\n",
    "                    '取り扱い店舗の電話番号': item.find('div', class_='ui-text--bold').text.strip() if item.find('div', class_='ui-text--bold') else '-'\n",
    "                }\n",
    "\n",
    "                # 各ページの物件データを全体リストに追加\n",
    "                all_properties_list.append(property_data)\n",
    "        \n",
    "        except requests.RequestException as e:\n",
    "            print(f\"Error fetching {url}: {e}\")\n",
    "\n",
    "# データフレームに変換\n",
    "df = pd.DataFrame(all_properties_list)\n",
    "\n",
    "# データフレームをCSVファイルに出力\n",
    "df.to_csv('tokyo6ku_1000pages_all_property.csv', index=False, encoding='utf-8-sig')\n",
    "print(\"データがCSVファイル 'tokyo6ku_1000pages_all_property.csv' に保存されました。\")\n"
   ]
  }
 ],
 "metadata": {
  "kernelspec": {
   "display_name": ".venv",
   "language": "python",
   "name": "python3"
  },
  "language_info": {
   "codemirror_mode": {
    "name": "ipython",
    "version": 3
   },
   "file_extension": ".py",
   "mimetype": "text/x-python",
   "name": "python",
   "nbconvert_exporter": "python",
   "pygments_lexer": "ipython3",
   "version": "3.12.1"
  }
 },
 "nbformat": 4,
 "nbformat_minor": 2
}
