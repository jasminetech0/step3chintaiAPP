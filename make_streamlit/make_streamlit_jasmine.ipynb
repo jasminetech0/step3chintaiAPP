{
 "cells": [
  {
   "cell_type": "code",
   "execution_count": 1,
   "metadata": {},
   "outputs": [],
   "source": [
    "#ライブラリをインストール\n",
    "import streamlit as st"
   ]
  },
  {
   "cell_type": "code",
   "execution_count": 2,
   "metadata": {},
   "outputs": [
    {
     "name": "stderr",
     "output_type": "stream",
     "text": [
      "2024-05-18 10:51:00.962 \n",
      "  \u001b[33m\u001b[1mWarning:\u001b[0m to view this Streamlit app on a browser, run it with the following\n",
      "  command:\n",
      "\n",
      "    streamlit run c:\\Users\\jiebing\\AppData\\Local\\Programs\\Python\\Python312\\Lib\\site-packages\\ipykernel_launcher.py [ARGUMENTS]\n"
     ]
    },
    {
     "data": {
      "text/plain": [
       "DeltaGenerator()"
      ]
     },
     "execution_count": 2,
     "metadata": {},
     "output_type": "execute_result"
    }
   ],
   "source": [
    "#タイトル\n",
    "st.title('（仮）不動産スマートセレクト')\n",
    "\n"
   ]
  },
  {
   "cell_type": "code",
   "execution_count": 3,
   "metadata": {},
   "outputs": [],
   "source": [
    "# エリアの選択肢\n",
    "areas = [\"千代田区\", \"中央区\", \"港区\", \"渋谷区\", \"新宿区\",\"文京区\"]\n",
    "\n",
    "# 間取りの選択肢\n",
    "layouts = [ \"1LDK\", \"2K~2LDK\", \"3K~3LDK\"]\n",
    "\n",
    "# サイドバーに各種条件を設定\n",
    "selected_areas = st.sidebar.multiselect(\"エリアを選択してください\", areas)\n",
    "min_rent = st.sidebar.number_input(\"最低賃料を入力してください\", min_value=0)\n",
    "max_rent = st.sidebar.number_input(\"最高賃料を入力してください\", min_value=min_rent)\n",
    "selected_layouts = st.sidebar.multiselect(\"間取りを選択してください\", layouts)\n",
    "\n",
    "# 選択した条件を表示\n",
    "st.write(\"選択したエリア：\", selected_areas)\n",
    "st.write(\"選択した賃料範囲：\", min_rent, \"から\", max_rent)\n",
    "st.write(\"選択した間取り：\", selected_layouts)"
   ]
  }
 ],
 "metadata": {
  "kernelspec": {
   "display_name": "Python 3",
   "language": "python",
   "name": "python3"
  },
  "language_info": {
   "codemirror_mode": {
    "name": "ipython",
    "version": 3
   },
   "file_extension": ".py",
   "mimetype": "text/x-python",
   "name": "python",
   "nbconvert_exporter": "python",
   "pygments_lexer": "ipython3",
   "version": "3.12.1"
  }
 },
 "nbformat": 4,
 "nbformat_minor": 2
}
